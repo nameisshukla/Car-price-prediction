{
  "cells": [
    {
      "cell_type": "code",
      "execution_count": null,
      "metadata": {
        "colab": {
          "base_uri": "https://localhost:8080/"
        },
        "id": "Q55pnOSvjxpR",
        "outputId": "9d1bfc16-891a-4111-920a-fa8bc9a607b2"
      },
      "outputs": [
        {
          "name": "stdout",
          "output_type": "stream",
          "text": [
            "Collecting flask-ngrok\n",
            "  Downloading flask_ngrok-0.0.25-py3-none-any.whl.metadata (1.8 kB)\n",
            "Requirement already satisfied: Flask>=0.8 in /usr/local/lib/python3.11/dist-packages (from flask-ngrok) (3.1.0)\n",
            "Requirement already satisfied: requests in /usr/local/lib/python3.11/dist-packages (from flask-ngrok) (2.32.3)\n",
            "Requirement already satisfied: Werkzeug>=3.1 in /usr/local/lib/python3.11/dist-packages (from Flask>=0.8->flask-ngrok) (3.1.3)\n",
            "Requirement already satisfied: Jinja2>=3.1.2 in /usr/local/lib/python3.11/dist-packages (from Flask>=0.8->flask-ngrok) (3.1.6)\n",
            "Requirement already satisfied: itsdangerous>=2.2 in /usr/local/lib/python3.11/dist-packages (from Flask>=0.8->flask-ngrok) (2.2.0)\n",
            "Requirement already satisfied: click>=8.1.3 in /usr/local/lib/python3.11/dist-packages (from Flask>=0.8->flask-ngrok) (8.1.8)\n",
            "Requirement already satisfied: blinker>=1.9 in /usr/local/lib/python3.11/dist-packages (from Flask>=0.8->flask-ngrok) (1.9.0)\n",
            "Requirement already satisfied: charset-normalizer<4,>=2 in /usr/local/lib/python3.11/dist-packages (from requests->flask-ngrok) (3.4.1)\n",
            "Requirement already satisfied: idna<4,>=2.5 in /usr/local/lib/python3.11/dist-packages (from requests->flask-ngrok) (3.10)\n",
            "Requirement already satisfied: urllib3<3,>=1.21.1 in /usr/local/lib/python3.11/dist-packages (from requests->flask-ngrok) (2.3.0)\n",
            "Requirement already satisfied: certifi>=2017.4.17 in /usr/local/lib/python3.11/dist-packages (from requests->flask-ngrok) (2025.1.31)\n",
            "Requirement already satisfied: MarkupSafe>=2.0 in /usr/local/lib/python3.11/dist-packages (from Jinja2>=3.1.2->Flask>=0.8->flask-ngrok) (3.0.2)\n",
            "Downloading flask_ngrok-0.0.25-py3-none-any.whl (3.1 kB)\n",
            "Installing collected packages: flask-ngrok\n",
            "Successfully installed flask-ngrok-0.0.25\n"
          ]
        }
      ],
      "source": [
        "!pip install flask-ngrok"
      ]
    },
    {
      "cell_type": "code",
      "execution_count": null,
      "metadata": {
        "colab": {
          "base_uri": "https://localhost:8080/"
        },
        "id": "wcTMztmbZ72o",
        "outputId": "d2f6ad23-3fcc-40a6-b071-18db1b36c7fc"
      },
      "outputs": [
        {
          "name": "stdout",
          "output_type": "stream",
          "text": [
            "Mounted at /content/drive\n"
          ]
        }
      ],
      "source": [
        "from google.colab import drive\n",
        "drive.mount('/content/drive')"
      ]
    },
    {
      "cell_type": "code",
      "execution_count": null,
      "metadata": {
        "colab": {
          "background_save": true,
          "base_uri": "https://localhost:8080/"
        },
        "id": "MwE0bA6aj58S",
        "outputId": "9aede8a1-182f-4797-d50c-82b1a4d48254"
      },
      "outputs": [
        {
          "name": "stdout",
          "output_type": "stream",
          "text": [
            " * Serving Flask app '__main__'\n",
            " * Debug mode: off\n"
          ]
        },
        {
          "name": "stderr",
          "output_type": "stream",
          "text": [
            "INFO:werkzeug:\u001b[31m\u001b[1mWARNING: This is a development server. Do not use it in a production deployment. Use a production WSGI server instead.\u001b[0m\n",
            " * Running on http://127.0.0.1:5000\n",
            "INFO:werkzeug:\u001b[33mPress CTRL+C to quit\u001b[0m\n"
          ]
        }
      ],
      "source": [
        "from flask import Flask, render_template, request\n",
        "import jsonify\n",
        "import requests\n",
        "import pickle\n",
        "import numpy as np\n",
        "import sklearn\n",
        "from sklearn.preprocessing import StandardScaler\n",
        "app = Flask(__name__)\n",
        "model = pickle.load(open('random_forest_regression_model.pkl', 'rb'))\n",
        "model = pickle.load(open('random_forest_regression_model.pkl', 'rb'))\n",
        "@app.route('/',methods=['GET'])\n",
        "def Home():\n",
        "    return render_template('index.html')\n",
        "\n",
        "standard_to = StandardScaler()\n",
        "@app.route(\"/predict\", methods=['POST'])\n",
        "def predict():\n",
        "    Fuel_Type_Diesel=0\n",
        "    if request.method == 'POST':\n",
        "        Year = int(request.form['Year'])\n",
        "        Present_Price=float(request.form['Present_Price'])\n",
        "        Kms_Driven=int(request.form['Kms_Driven'])\n",
        "        Kms_Driven2=np.log(Kms_Driven)\n",
        "        Owner=int(request.form['Owner'])\n",
        "        Fuel_Type_Petrol=request.form['Fuel_Type_Petrol']\n",
        "        if(Fuel_Type_Petrol=='Petrol'):\n",
        "                Fuel_Type_Petrol=1\n",
        "                Fuel_Type_Diesel=0\n",
        "        else:\n",
        "            Fuel_Type_Petrol=0\n",
        "            Fuel_Type_Diesel=1\n",
        "        Year=2021-Year\n",
        "        Seller_Type_Individual=request.form['Seller_Type_Individual']\n",
        "        if(Seller_Type_Individual=='Individual'):\n",
        "            Seller_Type_Individual=1\n",
        "        else:\n",
        "            Seller_Type_Individual=0\n",
        "        Transmission_Mannual=request.form['Transmission_Mannual']\n",
        "        if(Transmission_Mannual=='Mannual'):\n",
        "            Transmission_Mannual=1\n",
        "        else:\n",
        "            Transmission_Mannual=0\n",
        "        prediction=model.predict([[Present_Price,Kms_Driven2,Owner,Year,Fuel_Type_Diesel,Fuel_Type_Petrol,Seller_Type_Individual,Transmission_Mannual]])\n",
        "        output=round(prediction[0],2)\n",
        "        if output<0:\n",
        "            return render_template('index.html',prediction_texts=\"Sorry you cannot sell this car\")\n",
        "        else:\n",
        "            return render_template('index.html',prediction_text=\"You Can Sell The Car at {}\".format(output))\n",
        "    else:\n",
        "        return render_template('index.html')\n",
        "\n",
        "if __name__==\"__main__\":\n",
        "    app.run()\n",
        "\n"
      ]
    },
    {
      "cell_type": "code",
      "execution_count": null,
      "metadata": {
        "colab": {
          "base_uri": "https://localhost:8080/"
        },
        "id": "9iO7a34ykAZ7",
        "outputId": "19757e79-a252-4957-96e9-eb91618f8d13"
      },
      "outputs": [
        {
          "name": "stdout",
          "output_type": "stream",
          "text": [
            "Collecting jsonify\n",
            "  Downloading jsonify-0.5.tar.gz (1.0 kB)\n",
            "  Preparing metadata (setup.py) ... \u001b[?25l\u001b[?25hdone\n",
            "Building wheels for collected packages: jsonify\n",
            "  Building wheel for jsonify (setup.py) ... \u001b[?25l\u001b[?25hdone\n",
            "  Created wheel for jsonify: filename=jsonify-0.5-py3-none-any.whl size=1539 sha256=de28ac43d5c024fc60dec6dc06ed46d26973e55c801a135e85b9f463242f44e9\n",
            "  Stored in directory: /root/.cache/pip/wheels/8b/0b/70/cd8a2f72ec6e8dbab2d7fffe3e8a545f4d152255cc7e8541f5\n",
            "Successfully built jsonify\n",
            "Installing collected packages: jsonify\n",
            "Successfully installed jsonify-0.5\n"
          ]
        }
      ],
      "source": [
        "!pip install jsonify"
      ]
    }
  ],
  "metadata": {
    "colab": {
      "provenance": []
    },
    "kernelspec": {
      "display_name": "Python 3",
      "name": "python3"
    },
    "language_info": {
      "name": "python"
    }
  },
  "nbformat": 4,
  "nbformat_minor": 0
}